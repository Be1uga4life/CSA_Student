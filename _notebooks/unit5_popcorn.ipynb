{
 "cells": [
  {
   "cell_type": "markdown",
   "metadata": {},
   "source": [
    "### Popcorn Hack 1"
   ]
  },
  {
   "cell_type": "code",
   "execution_count": 1,
   "metadata": {
    "vscode": {
     "languageId": "java"
    }
   },
   "outputs": [],
   "source": [
    "public class Student {\n",
    "    private String name;\n",
    "    private int score;\n",
    "\n",
    "    // Default constructor\n",
    "    public Student() {\n",
    "        name = \"\";\n",
    "        score = 0;   \n",
    "    }\n",
    "\n",
    "    // Overloaded constructor\n",
    "    public Student(String n, int s) {\n",
    "        name = n;\n",
    "        setScore(s); // Ensure validation for score\n",
    "    }\n",
    "\n",
    "    // Accessor Methods\n",
    "    public String getName() {\n",
    "        return name;\n",
    "    }\n",
    "\n",
    "    public int getScore() {\n",
    "        return score;\n",
    "    }\n",
    "\n",
    "    // Mutator Methods\n",
    "    public void setName(String n) {\n",
    "        name = n;\n",
    "    }\n",
    "\n",
    "    public void setScore(int s) {\n",
    "        if (s < 0 || s > 100) {\n",
    "            score = 0; // default value if invalid score\n",
    "        } else {\n",
    "            score = s;\n",
    "        }\n",
    "    }\n",
    "\n",
    "    // Method to check if the student passes\n",
    "    public boolean pass() {\n",
    "        return score > 70;\n",
    "    }\n",
    "}"
   ]
  },
  {
   "cell_type": "markdown",
   "metadata": {},
   "source": [
    "### Popcorn Hack 2"
   ]
  },
  {
   "cell_type": "code",
   "execution_count": 2,
   "metadata": {
    "vscode": {
     "languageId": "java"
    }
   },
   "outputs": [],
   "source": [
    "public class Student {\n",
    "    private String name;\n",
    "    private int score;\n",
    "\n",
    "    // Default constructor\n",
    "    public Student() {\n",
    "        name = \"\";\n",
    "        score = 0;   \n",
    "    }\n",
    "\n",
    "    // Overloaded constructor with name and score\n",
    "    public Student(String name, int score) {\n",
    "        this.name = name;\n",
    "        setScore(score); // Using the setter method to validate the score\n",
    "    }\n",
    "\n",
    "    // New overloaded constructor with only name\n",
    "    public Student(String name) {\n",
    "        this.name = name;\n",
    "        this.score = 0; // default score\n",
    "    }\n",
    "\n",
    "    // Accessor Methods\n",
    "    public String getName() {\n",
    "        return name;\n",
    "    }\n",
    "\n",
    "    public int getScore() {\n",
    "        return score;\n",
    "    }\n",
    "\n",
    "    // Mutator Methods\n",
    "    public void setName(String name) {\n",
    "        this.name = name;\n",
    "    }\n",
    "\n",
    "    public void setScore(int score) {\n",
    "        if (score < 0 || score > 100) {\n",
    "            this.score = 0; // default value if invalid score\n",
    "        } else {\n",
    "            this.score = score;\n",
    "        }\n",
    "    }\n",
    "\n",
    "    // Method to check if the student passes\n",
    "    public boolean pass() {\n",
    "        return score > 70;\n",
    "    }\n",
    "}\n"
   ]
  },
  {
   "cell_type": "markdown",
   "metadata": {},
   "source": [
    "### Popcorn Hack 3"
   ]
  },
  {
   "cell_type": "code",
   "execution_count": 3,
   "metadata": {
    "vscode": {
     "languageId": "java"
    }
   },
   "outputs": [
    {
     "name": "stdout",
     "output_type": "stream",
     "text": [
      "Stuart\n",
      "Developing propulsion system\n",
      "7\n"
     ]
    }
   ],
   "source": [
    "public class Minion {\n",
    "    private String name;\n",
    "    private String task;\n",
    "    private int skillLevel; // Create skillLevel instance variable\n",
    "\n",
    "    // Constructor to initialize name, task, and skillLevel\n",
    "    public Minion(String name, String task, int skillLevel) {\n",
    "        this.name = name;\n",
    "        this.task = task;\n",
    "        this.skillLevel = skillLevel;\n",
    "    }\n",
    "\n",
    "    // Getter Methods\n",
    "    public String getName() {\n",
    "        return name;\n",
    "    }\n",
    "\n",
    "    public String getTask() {\n",
    "        return task;\n",
    "    }\n",
    "\n",
    "    // Getter method for skillLevel\n",
    "    public int getSkillLevel() {\n",
    "        return skillLevel;\n",
    "    }\n",
    "}\n",
    "\n",
    "// Create a Minion object and print values\n",
    "Minion Stuart = new Minion(\"Stuart\", \"Developing propulsion system\", 7);\n",
    "System.out.println(Stuart.getName());\n",
    "System.out.println(Stuart.getTask());\n",
    "System.out.println(Stuart.getSkillLevel()); // Print skillLevel\n"
   ]
  },
  {
   "cell_type": "markdown",
   "metadata": {},
   "source": [
    "### Popcorn Hack 4"
   ]
  },
  {
   "cell_type": "code",
   "execution_count": 4,
   "metadata": {
    "vscode": {
     "languageId": "java"
    }
   },
   "outputs": [
    {
     "name": "stdout",
     "output_type": "stream",
     "text": [
      "Minion{name='Kevin', height=4.1 feet, hair='Sprout-Cut', eyes=2}\n"
     ]
    }
   ],
   "source": [
    "public class Minion {\n",
    "    // Instance variables\n",
    "    private double height;\n",
    "    private String name;\n",
    "    private String hair;\n",
    "    private int eyes;\n",
    "\n",
    "    // Default Constructor\n",
    "    public Minion() {\n",
    "        height = 3.7;\n",
    "        name = \"Bob\";\n",
    "        hair = \"None\";\n",
    "        eyes = 2;\n",
    "    }\n",
    "\n",
    "    // Overloaded Constructor\n",
    "    public Minion(double h, String n, String hr, int e) {\n",
    "        height = h;\n",
    "        name = n;\n",
    "        hair = hr;\n",
    "        eyes = e;\n",
    "    }\n",
    "\n",
    "    // toString method to return all instance variables as a formatted string\n",
    "    public String toString() {\n",
    "        return \"Minion{name='\" + name + \"', height=\" + height + \" feet, hair='\" + hair + \"', eyes=\" + eyes + \"}\";\n",
    "    }\n",
    "}\n",
    "\n",
    "// Create minion object Kevin\n",
    "Minion kevin = new Minion(4.10, \"Kevin\", \"Sprout-Cut\", 2);\n",
    "\n",
    "// Print Kevin object\n",
    "System.out.println(kevin);\n"
   ]
  },
  {
   "cell_type": "markdown",
   "metadata": {},
   "source": [
    "### Popcorn Hack 5 (Your Turn 5.5)"
   ]
  },
  {
   "cell_type": "code",
   "execution_count": 7,
   "metadata": {
    "vscode": {
     "languageId": "java"
    }
   },
   "outputs": [
    {
     "name": "stdout",
     "output_type": "stream",
     "text": [
      "Book{title='The Great Adventure', author='John Doe', pages=350}\n",
      "The book title is: The Great Adventure\n",
      "Updated book details: Book{title='The Great Adventure', author='John Doe', pages=400}\n"
     ]
    }
   ],
   "source": [
    "public class Book {\n",
    "    private String title;\n",
    "    private String author;\n",
    "    private int pages;\n",
    "\n",
    "    // Constructor to initialize all the fields\n",
    "    public Book(String title, String author, int pages) {\n",
    "        this.title = title;\n",
    "        this.author = author;\n",
    "        this.pages = pages;\n",
    "    }\n",
    "\n",
    "    // Getter method for title\n",
    "    public String getTitle() {\n",
    "        return title;\n",
    "    }\n",
    "\n",
    "    // Setter method for pages\n",
    "    public void setPages(int pages) {\n",
    "        if (pages > 0) { // Ensure pages are positive\n",
    "            this.pages = pages;\n",
    "        } else {\n",
    "            System.out.println(\"Invalid page count! Pages must be greater than 0.\");\n",
    "        }\n",
    "    }\n",
    "\n",
    "    // Getter method for pages (just for printing)\n",
    "    public int getPages() {\n",
    "        return pages;\n",
    "    }\n",
    "\n",
    "    // toString method to print Book details\n",
    "    public String toString() {\n",
    "        return \"Book{title='\" + title + \"', author='\" + author + \"', pages=\" + pages + \"}\";\n",
    "    }\n",
    "}\n",
    "\n",
    "// Example usage:\n",
    "public class krill {\n",
    "    public static void main(String[] args) {\n",
    "        // Create a Book object using the constructor\n",
    "        Book myBook = new Book(\"The Great Adventure\", \"John Doe\", 350);\n",
    "        \n",
    "        // Print the initial details of the book\n",
    "        System.out.println(myBook);\n",
    "\n",
    "        // Use the getter to retrieve the book's title\n",
    "        System.out.println(\"The book title is: \" + myBook.getTitle());\n",
    "\n",
    "        // Use the setter to update the number of pages\n",
    "        myBook.setPages(400);\n",
    "\n",
    "        // Print the updated details of the book\n",
    "        System.out.println(\"Updated book details: \" + myBook);\n",
    "    }\n",
    "}\n",
    "\n",
    "krill.main(null)\n"
   ]
  },
  {
   "cell_type": "markdown",
   "metadata": {},
   "source": [
    "### Popcorn Hack 6"
   ]
  },
  {
   "cell_type": "code",
   "execution_count": 9,
   "metadata": {
    "vscode": {
     "languageId": "java"
    }
   },
   "outputs": [
    {
     "name": "stdout",
     "output_type": "stream",
     "text": [
      "=== Adding Minions ===\n",
      "Kevin has been added to Gru's army.\n",
      "Stuart has been added to Gru's army.\n",
      "Bob has been added to Gru's army.\n",
      "Henchman 1 has been added to Vector's army.\n",
      "Henchman 2 has been added to Vector's army.\n",
      "\n",
      "=== Villain Descriptions ===\n",
      "Gru is planning to: steal the moon!\n",
      "They have 3 minions.\n",
      "\n",
      "Vector is planning to: take over the world with magnitude and direction!\n",
      "They have 2 minions.\n",
      "\n",
      "=== Total Villain Count ===\n",
      "There are 2 villains in the world.\n",
      "\n",
      "=== Villain Battle! ===\n",
      "Gru vs Vector\n",
      "Gru wins the battle with more minions!\n"
     ]
    }
   ],
   "source": [
    "import java.util.ArrayList;\n",
    "import java.util.List;\n",
    "\n",
    "public class Villain {\n",
    "    // Instance variables\n",
    "    public String name;\n",
    "    public String evilPlan;\n",
    "    public List<String> minions;\n",
    "    public static int villainCount = 0;\n",
    "\n",
    "    // Constructor for name, plan, and minions\n",
    "    public Villain(String name, String evilPlan) {\n",
    "        this.name = name;\n",
    "        this.evilPlan = evilPlan;\n",
    "        this.minions = new ArrayList<>();\n",
    "        villainCount++;\n",
    "    }\n",
    "\n",
    "    // Instance method to add a minion\n",
    "    public void addMinion(String minion) {\n",
    "        minions.add(minion);\n",
    "        System.out.println(minion + \" has been added to \" + name + \"'s army.\");\n",
    "    }\n",
    "\n",
    "    // Instance method to describe the villain\n",
    "    public void describeVillain() {\n",
    "        System.out.println(name + \" is planning to: \" + evilPlan);\n",
    "        System.out.println(\"They have \" + minions.size() + \" minions.\");\n",
    "    }\n",
    "\n",
    "    // Static method to get the total count of villains\n",
    "    public static int getVillainCount() {\n",
    "        return villainCount;\n",
    "    }\n",
    "\n",
    "    // New static method for a fun battle between villains\n",
    "    public static void battleOfVillains(Villain v1, Villain v2) {\n",
    "        System.out.println(\"=== Villain Battle! ===\");\n",
    "        System.out.println(v1.name + \" vs \" + v2.name);\n",
    "\n",
    "        if (v1.minions.size() > v2.minions.size()) {\n",
    "            System.out.println(v1.name + \" wins the battle with more minions!\");\n",
    "        } else if (v2.minions.size() > v1.minions.size()) {\n",
    "            System.out.println(v2.name + \" wins the battle with more minions!\");\n",
    "        } else {\n",
    "            System.out.println(\"It's a tie! Both villains have the same number of minions.\");\n",
    "        }\n",
    "    }\n",
    "}\n",
    "\n",
    "public class skibidi {\n",
    "    public static void main(String[] args) {\n",
    "        Villain.villainCount = 0;\n",
    "\n",
    "        // Create new villains\n",
    "        Villain gru = new Villain(\"Gru\", \"steal the moon!\");\n",
    "        Villain vector = new Villain(\"Vector\", \"take over the world with magnitude and direction!\");\n",
    "\n",
    "        System.out.println(\"=== Adding Minions ===\");\n",
    "        // Create some minions for Gru\n",
    "        gru.addMinion(\"Kevin\");\n",
    "        gru.addMinion(\"Stuart\");\n",
    "        gru.addMinion(\"Bob\");\n",
    "\n",
    "        // Create some minions for Vector\n",
    "        vector.addMinion(\"Henchman 1\");\n",
    "        vector.addMinion(\"Henchman 2\");\n",
    "\n",
    "        System.out.println();\n",
    "\n",
    "        // Describe the villains and their plans\n",
    "        System.out.println(\"=== Villain Descriptions ===\");\n",
    "        gru.describeVillain();\n",
    "        System.out.println();\n",
    "        vector.describeVillain();\n",
    "        System.out.println();\n",
    "\n",
    "        // Get the total count of villains\n",
    "        System.out.println(\"=== Total Villain Count ===\");\n",
    "        System.out.println(\"There are \" + Villain.getVillainCount() + \" villains in the world.\");\n",
    "        System.out.println();\n",
    "\n",
    "        // Villain battle to see who has more minions\n",
    "        Villain.battleOfVillains(gru, vector);\n",
    "    }\n",
    "}\n",
    "\n",
    "skibidi.main(null)\n"
   ]
  },
  {
   "cell_type": "markdown",
   "metadata": {},
   "source": [
    "### Popcorn Hack 7"
   ]
  },
  {
   "cell_type": "code",
   "execution_count": 10,
   "metadata": {
    "vscode": {
     "languageId": "java"
    }
   },
   "outputs": [
    {
     "name": "stdout",
     "output_type": "stream",
     "text": [
      "Shrink Ray has been added to Kevin's gadgets.\n",
      "Jetpack has been added to Kevin's gadgets.\n",
      "Banana Blaster has been added to Stuart's gadgets.\n",
      "Fart Gun has been added to Bob's gadgets.\n",
      "=== Minion Descriptions ===\n",
      "Name: Kevin\n",
      "Personality: Brave\n",
      "Task: Lead the moon-stealing mission.\n",
      "Kevin's gadgets: Shrink Ray, Jetpack\n",
      "\n",
      "Name: Stuart\n",
      "Personality: Playful\n",
      "Task: Develop the rocket's propulsion system.\n",
      "Stuart's gadgets: Banana Blaster\n",
      "\n",
      "Name: Bob\n",
      "Personality: Cheerful\n",
      "Task: Manage the distraction team.\n",
      "Bob's gadgets: Fart Gun\n"
     ]
    }
   ],
   "source": [
    "import java.util.List;\n",
    "import java.util.ArrayList;\n",
    "\n",
    "public class Minion {\n",
    "    // Instance variables\n",
    "    private String name;\n",
    "    private List<String> gadgets;\n",
    "    private String personality;\n",
    "    private String task;\n",
    "\n",
    "    // Constructor\n",
    "    public Minion(String name, String personality) {\n",
    "        this.name = name;\n",
    "        this.personality = personality;\n",
    "        this.gadgets = new ArrayList<>(); // Initialize gadgets as an empty list\n",
    "        this.task = \"None assigned yet\"; // Default task\n",
    "    }\n",
    "\n",
    "    // Getter for name\n",
    "    public String getName() {\n",
    "        return name;\n",
    "    }\n",
    "\n",
    "    // Getter for personality\n",
    "    public String getPersonality() {\n",
    "        return personality;\n",
    "    }\n",
    "\n",
    "    // Setter for task\n",
    "    public void assignTask(String task) {\n",
    "        this.task = task;\n",
    "    }\n",
    "\n",
    "    // Getter for task\n",
    "    public String getTask() {\n",
    "        return task;\n",
    "    }\n",
    "\n",
    "    // Add a gadget to the minion's list of gadgets\n",
    "    public void addGadget(String gadget) {\n",
    "        gadgets.add(gadget);\n",
    "        System.out.println(gadget + \" has been added to \" + name + \"'s gadgets.\");\n",
    "    }\n",
    "\n",
    "    // Display all gadgets of the minion\n",
    "    public void displayGadgets() {\n",
    "        System.out.println(name + \"'s gadgets: \" + String.join(\", \", gadgets));\n",
    "    }\n",
    "\n",
    "    // Describe the minion with its attributes\n",
    "    public void describeMinion() {\n",
    "        System.out.println(\"Name: \" + name);\n",
    "        System.out.println(\"Personality: \" + personality);\n",
    "        System.out.println(\"Task: \" + task);\n",
    "        displayGadgets();\n",
    "    }\n",
    "}\n",
    "\n",
    "public class Main {\n",
    "    public static void main(String[] args) {\n",
    "        // Create a few minions\n",
    "        Minion kevin = new Minion(\"Kevin\", \"Brave\");\n",
    "        Minion stuart = new Minion(\"Stuart\", \"Playful\");\n",
    "        Minion bob = new Minion(\"Bob\", \"Cheerful\");\n",
    "\n",
    "        // Assign tasks to minions\n",
    "        kevin.assignTask(\"Lead the moon-stealing mission.\");\n",
    "        stuart.assignTask(\"Develop the rocket's propulsion system.\");\n",
    "        bob.assignTask(\"Manage the distraction team.\");\n",
    "\n",
    "        // Add gadgets to each minion\n",
    "        kevin.addGadget(\"Shrink Ray\");\n",
    "        kevin.addGadget(\"Jetpack\");\n",
    "\n",
    "        stuart.addGadget(\"Banana Blaster\");\n",
    "\n",
    "        bob.addGadget(\"Fart Gun\");\n",
    "\n",
    "        // Describe each minion\n",
    "        System.out.println(\"=== Minion Descriptions ===\");\n",
    "        kevin.describeMinion();\n",
    "        System.out.println();\n",
    "        stuart.describeMinion();\n",
    "        System.out.println();\n",
    "        bob.describeMinion();\n",
    "    }\n",
    "}\n",
    "\n",
    "Main.main(null)"
   ]
  },
  {
   "cell_type": "markdown",
   "metadata": {},
   "source": [
    "### Popcorn Hack #8"
   ]
  },
  {
   "cell_type": "code",
   "execution_count": 12,
   "metadata": {
    "vscode": {
     "languageId": "java"
    }
   },
   "outputs": [
    {
     "name": "stdout",
     "output_type": "stream",
     "text": [
      "Total gadgets made: 3\n",
      "All gadgets created:\n",
      "- Freeze Ray (Cost: $200.5)\n",
      "- Banana Blaster (Cost: $150.75)\n",
      "- Lipstick Taser (Cost: $120.0)\n",
      "Total cost of all gadgets: $471.25\n"
     ]
    }
   ],
   "source": [
    "import java.util.ArrayList;\n",
    "import java.util.List;\n",
    "\n",
    "public class Gadget {\n",
    "    public static int totalGadgets = 0;  // Static variable to track total gadgets made\n",
    "    private String gadgetName;  // Instance variable to store the name of the gadget\n",
    "    private double cost;  // Instance variable to store the cost of the gadget\n",
    "    public static List<Gadget> gadgetsList = new ArrayList<>();  // Static list to track all gadgets\n",
    "\n",
    "    // Constructor to set the gadget name and cost, increment totalGadgets\n",
    "    public Gadget(String gadgetName, double cost) {\n",
    "        this.gadgetName = gadgetName;\n",
    "        this.cost = cost;\n",
    "        totalGadgets++;  // Increment the total gadgets count\n",
    "        gadgetsList.add(this);  // Add this gadget to the static list\n",
    "    }\n",
    "\n",
    "    // Getter method for the gadget name\n",
    "    public String getGadgetName() {\n",
    "        return gadgetName;\n",
    "    }\n",
    "\n",
    "    // Getter method for the cost\n",
    "    public double getCost() {\n",
    "        return cost;\n",
    "    }\n",
    "\n",
    "    // Static method to calculate the total cost of all gadgets\n",
    "    public static double calculateTotalCost() {\n",
    "        double totalCost = 0;\n",
    "        for (Gadget g : gadgetsList) {\n",
    "            totalCost += g.getCost();  // Add the cost of each gadget to the total cost\n",
    "        }\n",
    "        return totalCost;\n",
    "    }\n",
    "\n",
    "    // Static method to display all gadgets created\n",
    "    public static void displayAllGadgets() {\n",
    "        System.out.println(\"All gadgets created:\");\n",
    "        for (Gadget g : gadgetsList) {\n",
    "            System.out.println(\"- \" + g.getGadgetName() + \" (Cost: $\" + g.getCost() + \")\");\n",
    "        }\n",
    "    }\n",
    "}\n",
    "\n",
    "public class Main {\n",
    "    public static void main(String[] args) {\n",
    "        // Create three gadgets with their costs\n",
    "        Gadget g1 = new Gadget(\"Freeze Ray\", 200.50);\n",
    "        Gadget g2 = new Gadget(\"Banana Blaster\", 150.75);\n",
    "        Gadget g3 = new Gadget(\"Lipstick Taser\", 120.00);\n",
    "\n",
    "        // Print the total number of gadgets\n",
    "        System.out.println(\"Total gadgets made: \" + Gadget.totalGadgets);\n",
    "\n",
    "        // Display all the gadgets with their costs\n",
    "        Gadget.displayAllGadgets();\n",
    "\n",
    "        // Calculate and print the total cost of all gadgets\n",
    "        double totalCost = Gadget.calculateTotalCost();\n",
    "        System.out.println(\"Total cost of all gadgets: $\" + totalCost);\n",
    "    }\n",
    "}\n",
    "\n",
    "Main.main(null)"
   ]
  },
  {
   "cell_type": "markdown",
   "metadata": {},
   "source": [
    "### Popcorn Hack 9"
   ]
  },
  {
   "cell_type": "code",
   "execution_count": 14,
   "metadata": {
    "vscode": {
     "languageId": "java"
    }
   },
   "outputs": [
    {
     "name": "stdout",
     "output_type": "stream",
     "text": [
      "Happiness Level: 10\n",
      "Energy Level: 2\n"
     ]
    }
   ],
   "source": [
    "public class MinionMood {\n",
    "    private int happinessLevel;  // Instance variable to store happiness level\n",
    "    private int energyLevel;      // Instance variable to store energy level\n",
    "\n",
    "    // Constructor to initialize happiness and energy levels based on bananas and tasks\n",
    "    public MinionMood(int bananas, int tasks) {\n",
    "        this.happinessLevel = 2 * bananas;  // Assign to instance variable\n",
    "        this.energyLevel = tasks;             // Assign to instance variable\n",
    "    }\n",
    "\n",
    "    // Override toString method to display happiness and energy levels\n",
    "    public String toString() {\n",
    "        return \"Happiness Level: \" + happinessLevel + \"\\nEnergy Level: \" + energyLevel;\n",
    "    }\n",
    "}\n",
    "\n",
    "// Main method to create a MinionMood object\n",
    "public class Main {\n",
    "    public static void main(String[] args) {\n",
    "        MinionMood bob = new MinionMood(5, 2);\n",
    "        System.out.println(bob);\n",
    "    }\n",
    "}\n",
    "\n",
    "Main.main(null)"
   ]
  },
  {
   "cell_type": "markdown",
   "metadata": {},
   "source": [
    "### Popcorn Hack 10"
   ]
  },
  {
   "cell_type": "code",
   "execution_count": 15,
   "metadata": {
    "vscode": {
     "languageId": "java"
    }
   },
   "outputs": [
    {
     "name": "stdout",
     "output_type": "stream",
     "text": [
      "Comparing Kevin and Bob:\n",
      "Kevin is taller.\n",
      "Bob is faster.\n",
      "\n",
      "Comparing Kevin and Stuart:\n",
      "Both minions are of the same height.\n",
      "Kevin is faster.\n",
      "\n",
      "Comparing Bob and Stuart:\n",
      "Stuart is taller.\n",
      "Bob is faster.\n"
     ]
    }
   ],
   "source": [
    "public class Minion {\n",
    "    private String name;\n",
    "    private double height;  // Height in meters\n",
    "    private double speed;   // Speed in meters per second\n",
    "\n",
    "    // Constructor\n",
    "    public Minion(String name, double height, double speed) {\n",
    "        this.name = name;\n",
    "        this.height = height;\n",
    "        this.speed = speed;\n",
    "    }\n",
    "\n",
    "    // Getter methods\n",
    "    public String getName() {\n",
    "        return name;\n",
    "    }\n",
    "\n",
    "    public double getHeight() {\n",
    "        return height;\n",
    "    }\n",
    "\n",
    "    public double getSpeed() {\n",
    "        return speed;\n",
    "    }\n",
    "\n",
    "    // Method to compare two minions based on height and speed\n",
    "    public static void compareMinions(Minion minion1, Minion minion2) {\n",
    "        System.out.println(\"Comparing \" + minion1.getName() + \" and \" + minion2.getName() + \":\");\n",
    "\n",
    "        // Compare height\n",
    "        if (minion1.getHeight() > minion2.getHeight()) {\n",
    "            System.out.println(minion1.getName() + \" is taller.\");\n",
    "        } else if (minion1.getHeight() < minion2.getHeight()) {\n",
    "            System.out.println(minion2.getName() + \" is taller.\");\n",
    "        } else {\n",
    "            System.out.println(\"Both minions are of the same height.\");\n",
    "        }\n",
    "\n",
    "        // Compare speed\n",
    "        if (minion1.getSpeed() > minion2.getSpeed()) {\n",
    "            System.out.println(minion1.getName() + \" is faster.\");\n",
    "        } else if (minion1.getSpeed() < minion2.getSpeed()) {\n",
    "            System.out.println(minion2.getName() + \" is faster.\");\n",
    "        } else {\n",
    "            System.out.println(\"Both minions have the same speed.\");\n",
    "        }\n",
    "    }\n",
    "}\n",
    "\n",
    "public class Main {\n",
    "    public static void main(String[] args) {\n",
    "        // Create minion objects\n",
    "        Minion kevin = new Minion(\"Kevin\", 1.2, 3.5);  // Height in meters, speed in m/s\n",
    "        Minion bob = new Minion(\"Bob\", 1.1, 4.0);\n",
    "        Minion stuart = new Minion(\"Stuart\", 1.2, 3.0);\n",
    "\n",
    "        // Compare minions\n",
    "        Minion.compareMinions(kevin, bob);\n",
    "        System.out.println();\n",
    "        Minion.compareMinions(kevin, stuart);\n",
    "        System.out.println();\n",
    "        Minion.compareMinions(bob, stuart);\n",
    "    }\n",
    "}\n",
    "\n",
    "Main.main(null)"
   ]
  },
  {
   "cell_type": "markdown",
   "metadata": {},
   "source": [
    "### Explanation/Questions things"
   ]
  },
  {
   "cell_type": "markdown",
   "metadata": {},
   "source": [
    "1. What is the output of the statement System.out.println(“minion 1 speed: “ + minion1.speed())? Explain why the this keyword is useful in the getSpeed() method.\n",
    "\n",
    "Output of System.out.println(\"minion 1 speed: \" + minion1.speed()): This line will cause a compilation error because there is no speed() method. You should use minion1.getSpeed() instead.\n",
    "\n",
    "2. What does the isTallerThan() method compare?\n",
    "\n",
    "The isTallerThan() method compares the height of one minion to another. It checks if the current minion is taller than the other minion passed to it.\n",
    "\n",
    "3. What happens to the result of System.out.println(“Is minion1 taller than minion2? “ + minion1.isTallerThan(minion2)) after minion2.setHeight(50) is called?\n",
    "\n",
    "After setting minion2's height to 50, when you check if minion1 is taller, it will return false because minion1 (43) is not taller than minion2 (50).\n",
    "\n",
    "\n",
    "\n",
    "\n",
    "\n",
    "\n"
   ]
  },
  {
   "cell_type": "code",
   "execution_count": null,
   "metadata": {
    "vscode": {
     "languageId": "java"
    }
   },
   "outputs": [],
   "source": []
  }
 ],
 "metadata": {
  "kernelspec": {
   "display_name": "Java",
   "language": "java",
   "name": "java"
  },
  "language_info": {
   "codemirror_mode": "java",
   "file_extension": ".jshell",
   "mimetype": "text/x-java-source",
   "name": "Java",
   "pygments_lexer": "java",
   "version": "11.0.24+8-post-Ubuntu-1ubuntu322.04"
  }
 },
 "nbformat": 4,
 "nbformat_minor": 2
}
