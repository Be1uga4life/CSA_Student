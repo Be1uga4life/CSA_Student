{
 "cells": [
  {
   "cell_type": "markdown",
   "metadata": {},
   "source": [
    "### Popcorn Hacks 7.1 + 7.2"
   ]
  },
  {
   "cell_type": "code",
   "execution_count": null,
   "metadata": {
    "vscode": {
     "languageId": "java"
    }
   },
   "outputs": [],
   "source": [
    "import java.util.ArrayList;\n",
    "\n",
    "public class PopcornHacks {\n",
    "    public static void main(String[] args) {\n",
    "        ArrayList<String> fruits = new ArrayList<>();\n",
    "        fruits.add(\"Apple\");\n",
    "        fruits.add(\"Banana\");\n",
    "        fruits.add(\"Cherry\");\n",
    "        fruits.add(\"Date\");\n",
    "        fruits.add(\"Elderberry\");\n",
    "\n",
    "        // Task 1: Print the size of the ArrayList\n",
    "        System.out.println(\"Task 1: Size of the ArrayList: \" + fruits.size());\n",
    "\n",
    "        // Task 2: Add \"Fig\" to the end of the list\n",
    "        fruits.add(\"Fig\");\n",
    "        System.out.println(\"Task 2: \" + fruits);\n",
    "\n",
    "        // Task 3: Insert \"Grape\" at index 2\n",
    "        fruits.add(2, \"Grape\");\n",
    "        System.out.println(\"Task 3: \" + fruits);\n",
    "\n",
    "        // Task 4: Replace the element at index 4 with \"Guava\"\n",
    "        fruits.set(4, \"Guava\");\n",
    "        System.out.println(\"Task 4: \" + fruits);\n",
    "\n",
    "        // Task 5: Remove the element at index 1\n",
    "        fruits.remove(1);\n",
    "        System.out.println(\"Task 5: \" + fruits);\n",
    "\n",
    "        // Task 6: Retrieve and print the element at index 3\n",
    "        System.out.println(\"Task 6: Element at index 3: \" + fruits.get(3));\n",
    "\n",
    "        // Final state of the ArrayList\n",
    "        System.out.println(\"Final state of the ArrayList: \" + fruits);\n",
    "    }\n",
    "}"
   ]
  },
  {
   "cell_type": "markdown",
   "metadata": {},
   "source": []
  },
  {
   "cell_type": "markdown",
   "metadata": {},
   "source": [
    "### Ducks Popcorn Hack"
   ]
  },
  {
   "cell_type": "code",
   "execution_count": null,
   "metadata": {
    "vscode": {
     "languageId": "java"
    }
   },
   "outputs": [],
   "source": [
    "import java.util.ArrayList;\n",
    "\n",
    "class DebugDuck implements Comparable<DebugDuck> {\n",
    "    String name;\n",
    "    double weight;\n",
    "\n",
    "    public DebugDuck(String name, double weight) {\n",
    "        this.name = name;\n",
    "        this.weight = weight;\n",
    "    }\n",
    "\n",
    "    @Override\n",
    "    public int compareTo(DebugDuck other) {\n",
    "        return Double.compare(this.weight, other.weight);\n",
    "    }\n",
    "\n",
    "    @Override\n",
    "    public String toString() {\n",
    "        return name + \" (\" + weight + \" kg)\";\n",
    "    }\n",
    "}\n",
    "\n",
    "public class DuckSorter {\n",
    "    // Selection sort algorithm to sort ducks by weight\n",
    "    public static void selectionSort(ArrayList<DebugDuck> ducks) {\n",
    "        int n = ducks.size();\n",
    "        for (int i = 0; i < n - 1; i++) {\n",
    "            // Assume the minimum element is at i\n",
    "            int minIndex = i;\n",
    "            for (int j = i + 1; j < n; j++) {\n",
    "                if (ducks.get(j).compareTo(ducks.get(minIndex)) < 0) {\n",
    "                    minIndex = j;\n",
    "                }\n",
    "            }\n",
    "            // Swap the found minimum element with the first element\n",
    "            DebugDuck temp = ducks.get(i);\n",
    "            ducks.set(i, ducks.get(minIndex));\n",
    "            ducks.set(minIndex, temp);\n",
    "        }\n",
    "    }\n",
    "\n",
    "    public static void main(String[] args) {\n",
    "        // Creating an ArrayList of ducks\n",
    "        ArrayList<DebugDuck> ducks = new ArrayList<>();\n",
    "        ducks.add(new DebugDuck(\"Duck A\", 4.5));\n",
    "        ducks.add(new DebugDuck(\"Duck B\", 2.1));\n",
    "        ducks.add(new DebugDuck(\"Duck C\", 5.0));\n",
    "        ducks.add(new DebugDuck(\"Duck D\", 1.9));\n",
    "\n",
    "        // Print the list before sorting\n",
    "        System.out.println(\"Before sorting:\");\n",
    "        for (DebugDuck duck : ducks) {\n",
    "            System.out.println(duck);\n",
    "        }\n",
    "\n",
    "        // Sort the ducks by weight\n",
    "        selectionSort(ducks);\n",
    "\n",
    "        // Print the list after sorting\n",
    "        System.out.println(\"\\nAfter sorting:\");\n",
    "        for (DebugDuck duck : ducks) {\n",
    "            System.out.println(duck);\n",
    "        }\n",
    "    }\n",
    "}"
   ]
  },
  {
   "cell_type": "markdown",
   "metadata": {},
   "source": [
    "### Homework Hacks"
   ]
  },
  {
   "cell_type": "code",
   "execution_count": null,
   "metadata": {
    "vscode": {
     "languageId": "java"
    }
   },
   "outputs": [],
   "source": []
  }
 ],
 "metadata": {
  "language_info": {
   "name": "python"
  }
 },
 "nbformat": 4,
 "nbformat_minor": 2
}
