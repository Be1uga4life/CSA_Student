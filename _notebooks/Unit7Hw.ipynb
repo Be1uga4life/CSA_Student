{
 "cells": [
  {
   "cell_type": "markdown",
   "metadata": {},
   "source": [
    "### Popcorn Hacks 7.1 + 7.2"
   ]
  },
  {
   "cell_type": "code",
   "execution_count": null,
   "metadata": {},
   "outputs": [],
   "source": [
    "import java.util.ArrayList;\n",
    "\n",
    "public class PopcornHacks {\n",
    "    public static void main(String[] args) {\n",
    "        ArrayList<String> fruits = new ArrayList<>();\n",
    "        fruits.add(\"Apple\");\n",
    "        fruits.add(\"Banana\");\n",
    "        fruits.add(\"Cherry\");\n",
    "        fruits.add(\"Date\");\n",
    "        fruits.add(\"Elderberry\");\n",
    "\n",
    "        // Task 1: Print the size of the ArrayList\n",
    "        System.out.println(\"Task 1: Size of the ArrayList: \" + fruits.size());\n",
    "\n",
    "        // Task 2: Add \"Fig\" to the end of the list\n",
    "        fruits.add(\"Fig\");\n",
    "        System.out.println(\"Task 2: \" + fruits);\n",
    "\n",
    "        // Task 3: Insert \"Grape\" at index 2\n",
    "        fruits.add(2, \"Grape\");\n",
    "        System.out.println(\"Task 3: \" + fruits);\n",
    "\n",
    "        // Task 4: Replace the element at index 4 with \"Guava\"\n",
    "        fruits.set(4, \"Guava\");\n",
    "        System.out.println(\"Task 4: \" + fruits);\n",
    "\n",
    "        // Task 5: Remove the element at index 1\n",
    "        fruits.remove(1);\n",
    "        System.out.println(\"Task 5: \" + fruits);\n",
    "\n",
    "        // Task 6: Retrieve and print the element at index 3\n",
    "        System.out.println(\"Task 6: Element at index 3: \" + fruits.get(3));\n",
    "\n",
    "        // Final state of the ArrayList\n",
    "        System.out.println(\"Final state of the ArrayList: \" + fruits);\n",
    "    }\n",
    "}"
   ]
  },
  {
   "cell_type": "markdown",
   "metadata": {},
   "source": [
    "### MCQ\n",
    "\n",
    "1. Which of the following are methods to interact with arrays?\n",
    "\n",
    "variable.get\n",
    "\n",
    "2. What happens when you run a command requesting the item arr[-1]?\n",
    "Answer: You get the error ArrayIndexOutOfBoundsException\n",
    "\n",
    "Java doesn't allow for the -1 option, only python has that"
   ]
  },
  {
   "cell_type": "markdown",
   "metadata": {},
   "source": []
  },
  {
   "cell_type": "code",
   "execution_count": 8,
   "metadata": {},
   "outputs": [
    {
     "name": "stdout",
     "output_type": "stream",
     "text": [
      "[1, 3]\n"
     ]
    }
   ],
   "source": [
    "import java.util.ArrayList;\n",
    "import java.util.List;\n",
    "\n",
    "List<Integer> list1 = new ArrayList<>();\n",
    "list1.add(new Integer(1));\n",
    "list1.add(new Integer(2));\n",
    "list1.add(new Integer(3));\n",
    "\n",
    "// Removing the element at index 1 (which is the value 2)\n",
    "list1.remove(1);\n",
    "\n",
    "// Correct way to print the ArrayList\n",
    "System.out.println(list1);\n",
    "\n",
    "// Answer D is correct\n"
   ]
  },
  {
   "cell_type": "code",
   "execution_count": 9,
   "metadata": {},
   "outputs": [
    {
     "name": "stdout",
     "output_type": "stream",
     "text": [
      "[1, 5, 2, 4, 6]\n"
     ]
    }
   ],
   "source": [
    "List<Integer> numList = new ArrayList<Integer>();\n",
    "numList.add(new Integer(1));\n",
    "numList.add(new Integer(2));\n",
    "numList.add(new Integer(3));\n",
    "numList.set(2,new Integer(4));\n",
    "numList.add(1, new Integer(5));\n",
    "numList.add(new Integer(6));\n",
    "\n",
    "System.out.println(numList);\n",
    "\n",
    "// Answer D is correct"
   ]
  },
  {
   "cell_type": "markdown",
   "metadata": {},
   "source": [
    "### Ducks Popcorn Hack"
   ]
  },
  {
   "cell_type": "code",
   "execution_count": null,
   "metadata": {},
   "outputs": [],
   "source": [
    "import java.util.ArrayList;\n",
    "\n",
    "class DebugDuck implements Comparable<DebugDuck> {\n",
    "    String name;\n",
    "    double weight;\n",
    "\n",
    "    public DebugDuck(String name, double weight) {\n",
    "        this.name = name;\n",
    "        this.weight = weight;\n",
    "    }\n",
    "\n",
    "    @Override\n",
    "    public int compareTo(DebugDuck other) {\n",
    "        return Double.compare(this.weight, other.weight);\n",
    "    }\n",
    "\n",
    "    @Override\n",
    "    public String toString() {\n",
    "        return name + \" (\" + weight + \" kg)\";\n",
    "    }\n",
    "}\n",
    "\n",
    "public class DuckSorter {\n",
    "    // Selection sort algorithm to sort ducks by weight\n",
    "    public static void selectionSort(ArrayList<DebugDuck> ducks) {\n",
    "        int n = ducks.size();\n",
    "        for (int i = 0; i < n - 1; i++) {\n",
    "            // Assume the minimum element is at i\n",
    "            int minIndex = i;\n",
    "            for (int j = i + 1; j < n; j++) {\n",
    "                if (ducks.get(j).compareTo(ducks.get(minIndex)) < 0) {\n",
    "                    minIndex = j;\n",
    "                }\n",
    "            }\n",
    "            // Swap the found minimum element with the first element\n",
    "            DebugDuck temp = ducks.get(i);\n",
    "            ducks.set(i, ducks.get(minIndex));\n",
    "            ducks.set(minIndex, temp);\n",
    "        }\n",
    "    }\n",
    "\n",
    "    public static void main(String[] args) {\n",
    "        // Creating an ArrayList of ducks\n",
    "        ArrayList<DebugDuck> ducks = new ArrayList<>();\n",
    "        ducks.add(new DebugDuck(\"Duck A\", 4.5));\n",
    "        ducks.add(new DebugDuck(\"Duck B\", 2.1));\n",
    "        ducks.add(new DebugDuck(\"Duck C\", 5.0));\n",
    "        ducks.add(new DebugDuck(\"Duck D\", 1.9));\n",
    "\n",
    "        // Print the list before sorting\n",
    "        System.out.println(\"Before sorting:\");\n",
    "        for (DebugDuck duck : ducks) {\n",
    "            System.out.println(duck);\n",
    "        }\n",
    "\n",
    "        // Sort the ducks by weight\n",
    "        selectionSort(ducks);\n",
    "\n",
    "        // Print the list after sorting\n",
    "        System.out.println(\"\\nAfter sorting:\");\n",
    "        for (DebugDuck duck : ducks) {\n",
    "            System.out.println(duck);\n",
    "        }\n",
    "    }\n",
    "}"
   ]
  },
  {
   "cell_type": "markdown",
   "metadata": {},
   "source": [
    "### 7th Mini Hack "
   ]
  },
  {
   "cell_type": "code",
   "execution_count": 10,
   "metadata": {},
   "outputs": [],
   "source": [
    "ArrayList<String> userData = new ArrayList<>();\n",
    "userData.add(\"John Doe\");\n",
    "userData.add(\"john@example.com\");\n",
    "\n",
    "// Once you're done using the data\n",
    "userData.clear(); // Removes all entries\n",
    "userData = null;  // turn it into null"
   ]
  },
  {
   "cell_type": "markdown",
   "metadata": {},
   "source": [
    "### Homework Hacks"
   ]
  },
  {
   "cell_type": "code",
   "execution_count": null,
   "metadata": {},
   "outputs": [],
   "source": [
    "import java.util.ArrayList;\n",
    "import java.util.Collections;\n",
    "\n",
    "public class ArrayListActivity {\n",
    "    public static void main(String[] args) {\n",
    "        // Task 1: Create an ArrayList of integers and add 5 elements\n",
    "        ArrayList<Integer> numbers = new ArrayList<>();\n",
    "        numbers.add(10);\n",
    "        numbers.add(20);\n",
    "        numbers.add(30);\n",
    "        numbers.add(40);\n",
    "        numbers.add(50);\n",
    "        System.out.println(\"Task 1: \" + numbers);\n",
    "\n",
    "        // Task 2: Change the second element (index 1) to a new value (e.g., 100)\n",
    "        numbers.set(1, 100);\n",
    "        System.out.println(\"Task 2: \" + numbers);\n",
    "\n",
    "        // Task 3: Remove the third element (index 2)\n",
    "        numbers.remove(2);\n",
    "        System.out.println(\"Task 3: \" + numbers);\n",
    "\n",
    "        // Task 4: Check if 30 is in the ArrayList\n",
    "        if (numbers.contains(30)) {\n",
    "            System.out.println(\"Task 4: 30 is found in the list.\");\n",
    "        } else {\n",
    "            System.out.println(\"Task 4: 30 is not found in the list.\");\n",
    "        }\n",
    "\n",
    "        // Task 5: Loop through the ArrayList and print each element\n",
    "        System.out.println(\"Task 5: Looping through the list:\");\n",
    "        for (int number : numbers) {\n",
    "            System.out.println(number);\n",
    "        }\n",
    "\n",
    "        // Task 6: Sort the ArrayList in ascending order\n",
    "        Collections.sort(numbers);\n",
    "        System.out.println(\"Task 6: Sorted ArrayList: \" + numbers);\n",
    "    }\n",
    "}\n"
   ]
  }
 ],
 "metadata": {
  "kernelspec": {
   "display_name": "Java",
   "language": "java",
   "name": "java"
  },
  "language_info": {
   "codemirror_mode": "java",
   "file_extension": ".jshell",
   "mimetype": "text/x-java-source",
   "name": "java",
   "pygments_lexer": "java",
   "version": "11.0.24+8-post-Ubuntu-1ubuntu322.04"
  }
 },
 "nbformat": 4,
 "nbformat_minor": 2
}
