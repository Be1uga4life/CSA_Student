{
 "cells": [
  {
   "cell_type": "markdown",
   "metadata": {},
   "source": [
    "---\n",
    "layout: post\n",
    "title: Tools Verification\n",
    "description:  Verify Installation of tools\n",
    "type: issues \n",
    "comments: true\n",
    "---"
   ]
  },
  {
   "cell_type": "code",
   "execution_count": 9,
   "metadata": {
    "vscode": {
     "languageId": "shellscript"
    }
   },
   "outputs": [
    {
     "name": "stdout",
     "output_type": "stream",
     "text": [
      "Project dir: /home/eroxyi/EricY_CSA_Student\n",
      "Project: /home/eroxyi/EricY_CSA_Student/EricY_CSA_Student\n",
      "Repo: https://github.com/Be1uga4life/EricY_CSA_Student\n"
     ]
    }
   ],
   "source": [
    "cat <<EOF > /tmp/variables.sh\n",
    "export project_dir=$HOME/nighthawk\n",
    "export project=\\$project_dir/EricY_CSA_Student\n",
    "export project_repo=\"https://github.com/Be1uga4life/EricY_CSA_Student\" \n",
    "EOF\n",
    "\n",
    "source /tmp/variables.sh\n",
    "\n",
    "# Output shown title and value variables\n",
    "echo \"Project dir: $project_dir\"\n",
    "echo \"Project: $project\"\n",
    "echo \"Repo: $project_repo\""
   ]
  },
  {
   "cell_type": "code",
   "execution_count": 10,
   "metadata": {
    "vscode": {
     "languageId": "shellscript"
    }
   },
   "outputs": [
    {
     "name": "stdout",
     "output_type": "stream",
     "text": [
      "Using conditional statement to create a project directory and project\n",
      "Directory /home/eroxyi/EricY_CSA_Student does not exist... making directory /home/eroxyi/EricY_CSA_Student\n",
      "Directory /home/eroxyi/EricY_CSA_Student exists.\n",
      "Directory /home/eroxyi/EricY_CSA_Student/EricY_CSA_Student does not exist... cloning https://github.com/Be1uga4life/EricY_CSA_Student\n",
      "Cloning into 'EricY_CSA_Student'...\n",
      "remote: Enumerating objects: 876, done.\u001b[K\n",
      "remote: Counting objects: 100% (205/205), done.\u001b[K\n",
      "remote: Compressing objects: 100% (177/177), done.\u001b[K\n",
      "remote: Total 876 (delta 49), reused 31 (delta 28), pack-reused 671 (from 1)\u001b[K\n",
      "Receiving objects: 100% (876/876), 39.48 MiB | 18.96 MiB/s, done.\n",
      "Resolving deltas: 100% (154/154), done.\n",
      "Directory /home/eroxyi/EricY_CSA_Student/EricY_CSA_Student exists.\n"
     ]
    }
   ],
   "source": [
    "# Extract saved variables\n",
    "source /tmp/variables.sh\n",
    "\n",
    "echo \"Using conditional statement to create a project directory and project\"\n",
    "\n",
    "cd ~    # start in home directory\n",
    "\n",
    "# Conditional block to make a project directory\n",
    "if [ ! -d $project_dir ]\n",
    "then \n",
    "    echo \"Directory $project_dir does not exist... making directory $project_dir\"\n",
    "    mkdir -p $project_dir\n",
    "fi\n",
    "echo \"Directory $project_dir exists.\" \n",
    "\n",
    "# Conditional block to git clone a project from project_repo\n",
    "if [ ! -d $project ]\n",
    "then\n",
    "    echo \"Directory $project does not exist... cloning $project_repo\"\n",
    "    cd $project_dir\n",
    "    git clone $project_repo\n",
    "    cd ~\n",
    "fi\n",
    "echo \"Directory $project exists.\""
   ]
  },
  {
   "cell_type": "code",
   "execution_count": 11,
   "metadata": {
    "vscode": {
     "languageId": "shellscript"
    }
   },
   "outputs": [
    {
     "name": "stdout",
     "output_type": "stream",
     "text": [
      "Navigate to project, then navigate to area wwhere files were cloned\n",
      "/home/eroxyi/EricY_CSA_Student/EricY_CSA_Student\n",
      "\n",
      "list top level or root of files with project pulled from github\n",
      "404.html  README.md      \u001b[0m\u001b[01;34m_layouts\u001b[0m    \u001b[01;34massets\u001b[0m      requirements.txt  verify.sh\n",
      "Gemfile   README4YML.md  \u001b[01;34m_notebooks\u001b[0m  \u001b[01;34mimages\u001b[0m      \u001b[01;34mscripts\u001b[0m\n",
      "LICENSE   _config.yml    \u001b[01;34m_posts\u001b[0m      index.md    style.scss\n",
      "Makefile  \u001b[01;34m_includes\u001b[0m      \u001b[01;34m_sass\u001b[0m       \u001b[01;34mnavigation\u001b[0m  test.py\n"
     ]
    }
   ],
   "source": [
    "source /tmp/variables.sh\n",
    "\n",
    "echo \"Navigate to project, then navigate to area wwhere files were cloned\"\n",
    "cd $project\n",
    "pwd\n",
    "\n",
    "echo \"\"\n",
    "echo \"list top level or root of files with project pulled from github\"\n",
    "ls"
   ]
  }
 ],
 "metadata": {
  "kernelspec": {
   "display_name": "Bash",
   "language": "bash",
   "name": "bash"
  },
  "language_info": {
   "codemirror_mode": "shell",
   "file_extension": ".sh",
   "mimetype": "text/x-sh",
   "name": "bash"
  }
 },
 "nbformat": 4,
 "nbformat_minor": 2
}
