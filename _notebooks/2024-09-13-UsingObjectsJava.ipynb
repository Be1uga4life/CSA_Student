{
 "cells": [
  {
   "cell_type": "markdown",
   "metadata": {},
   "source": [
    "---\n",
    "layout: post\n",
    "title: Unit 2 - Using Objects\n",
    "description: Team Teach Unit 2 Using Objects (By Shuban, Eric, Aadit, and Rahul)\n",
    "type: issues \n",
    "comments: true\n",
    "---"
   ]
  },
  {
   "cell_type": "markdown",
   "metadata": {},
   "source": [
    "## Topics (Collegeboard subsections)\n",
    "\n",
    "- 2.1 Object - Instances of Classes\n",
    "- 2.2 Creating and Storing Objects\n",
    "- 2.3 Calling a Void Method\n",
    "- 2.4 Calling a Void Method with Parameters\n",
    "- 2.5 Calling a Non-Void Method\n",
    "- 2.6 String Objects - Concatenation, Literals, and More\n",
    "- 2.7 String Methods\n",
    "- 2.8 Wrapper Classes - Integer and Double\n",
    "- 2.9 Using the Math class\n"
   ]
  },
  {
   "cell_type": "markdown",
   "metadata": {},
   "source": [
    "## Section 2.1: What is an Object? (Rahul)"
   ]
  },
  {
   "cell_type": "markdown",
   "metadata": {},
   "source": [
    "## Section 2.2: Creating and Store Objects (Rahul)"
   ]
  },
  {
   "cell_type": "markdown",
   "metadata": {},
   "source": [
    "## Section 2.3: Calling a Void Methods (Rahul)"
   ]
  },
  {
   "cell_type": "markdown",
   "metadata": {},
   "source": [
    "## Section 2.4: Calling a Void Method with Parameters (Shuban)"
   ]
  },
  {
   "cell_type": "markdown",
   "metadata": {},
   "source": [
    "## Section 2.5: Calling a Non-Void (Shuban)"
   ]
  },
  {
   "cell_type": "markdown",
   "metadata": {
    "vscode": {
     "languageId": "plaintext"
    }
   },
   "source": [
    "## Section 2.6: String Objects - Concatenation, Literals, and More (Eric)\n",
    "\n",
    "#### Creating Strings:"
   ]
  },
  {
   "cell_type": "code",
   "execution_count": 43,
   "metadata": {},
   "outputs": [
    {
     "name": "stdout",
     "output_type": "stream",
     "text": [
      "Skibidi"
     ]
    }
   ],
   "source": [
    "public class stringobjects\n",
    "{\n",
    "    public static void main(String[] args)\n",
    "    {\n",
    "        String name1 = \"Skibidi\";\n",
    "        String name2 = new String(\"Sigma\");\n",
    "        String name3 = new String(name1);\n",
    "\n",
    "        System.out.print(name1);\n",
    "    }\n",
    "}\n",
    "\n",
    "stringobjects.main(null);"
   ]
  },
  {
   "cell_type": "markdown",
   "metadata": {},
   "source": [
    "---\n",
    "\n",
    "### 📝 Three Ways to Create a String: Let's Break it Down!\n",
    "\n",
    "---\n",
    "\n",
    "#### **First Option:**\n",
    "\n",
    "<iframe\n",
    "  src=\"https://carbon.now.sh/embed?bg=rgba%28171%2C+184%2C+195%2C+1%29&t=seti&wt=none&l=text%2Fx-java&width=680&ds=true&dsyoff=20px&dsblur=68px&wc=true&wa=true&pv=0px&ph=0px&ln=false&fl=1&fm=Hack&fs=14px&lh=133%25&si=false&es=2x&wm=false&code=String%2520name1%2520%253D%2520%2522Skibidi%2522%253B\"\n",
    "  style=\"width: 235px; height: 84px; border:0; transform: scale(1); overflow:hidden;\"\n",
    "  sandbox=\"allow-scripts allow-same-origin\">\n",
    "</iframe>\n",
    "\n",
    "\n",
    "<span style=\"color:purple;\">Class:</span> Defines the type of variable (String, Integer, Array, etc.)\n",
    "\n",
    "<span style=\"color:turqoise;\">Variable Name:</span> Represents the name assigned to the variable.\n",
    "\n",
    "<span style=\"color:yellow;\">String:</span> The actual string value assigned to the variable.\n",
    "\n",
    "---"
   ]
  },
  {
   "cell_type": "markdown",
   "metadata": {},
   "source": [
    "#### **Second Option:**\n",
    "\n",
    "<iframe\n",
    "  src=\"https://carbon.now.sh/embed?bg=rgba%28171%2C+184%2C+195%2C+1%29&t=seti&wt=none&l=text%2Fx-java&width=680&ds=true&dsyoff=20px&dsblur=68px&wc=true&wa=true&pv=0px&ph=0px&ln=false&fl=1&fm=Hack&fs=14px&lh=133%25&si=false&es=2x&wm=false&code=String%2520name2%2520%253D%2520new%2520String%28%2522Sigma%2522%29%253B\"\n",
    "  style=\"width: 319px; height: 79px; border:0; transform: scale(1); overflow:hidden;\"\n",
    "  sandbox=\"allow-scripts allow-same-origin\">\n",
    "</iframe>\n",
    "\n",
    "Class: What type of variable will it be? (String, Integers, Arrays, etc.)\n",
    "\n",
    "Variable name: The name of the variable\n",
    "\n",
    "Java Keyword: The new keyword in Java is used to explicitly create a new object.\n",
    "\n",
    "Class: The string that will be assigned to the variable\n",
    "\n",
    "String: The string to be defined into the variable\n"
   ]
  },
  {
   "cell_type": "markdown",
   "metadata": {},
   "source": [
    "---\n",
    "\n",
    "#### **Third Option:**\n",
    "\n",
    "<iframe\n",
    "  src=\"https://carbon.now.sh/embed?bg=rgba%28171%2C+184%2C+195%2C+1%29&t=seti&wt=none&l=text%2Fx-java&width=680&ds=true&dsyoff=20px&dsblur=68px&wc=true&wa=true&pv=0px&ph=0px&ln=false&fl=1&fm=Hack&fs=14px&lh=133%25&si=false&es=2x&wm=false&code=String%2520string1%2520%253D%2520%2522YIPEE%2522%250AString%2520name2%2520%253D%2520new%2520String%28string1%29%253B\"\n",
    "  style=\"width: 318px; height: 96px; border:0; transform: scale(1); overflow:hidden;\"\n",
    "  sandbox=\"allow-scripts allow-same-origin\">\n",
    "</iframe>\n",
    "\n",
    "Class: What type of variable will it be? (String, Integers, Arrays, etc.)\n",
    "\n",
    "Variable name: The name of the variable\n",
    "\n",
    "Java Keyword: The new keyword in Java is used to explicitly create a new object.\n",
    "\n",
    "Class: The string that will be assigned to the variable\n"
   ]
  },
  {
   "cell_type": "markdown",
   "metadata": {},
   "source": [
    "String Objects are immutable (can't be changed after assignment)"
   ]
  },
  {
   "cell_type": "markdown",
   "metadata": {},
   "source": [
    "### 📝 What are Concatentations?\n",
    "\n",
    "Concatentations are the joining of strings using operators such as \"+=\" and \"+\". \n",
    "\n",
    "There are two primary ways to combine strings:\n",
    "\n",
    "- '+=' : Adds the two strings, redefines the variable\n",
    "- '+' : Adds the two strings, but doesn't redfine the variable"
   ]
  },
  {
   "cell_type": "code",
   "execution_count": 45,
   "metadata": {},
   "outputs": [
    {
     "name": "stdout",
     "output_type": "stream",
     "text": [
      "Skibidi2\n",
      "Skibidi1\n"
     ]
    }
   ],
   "source": [
    "public class concatentations\n",
    "{\n",
    "    public static void main(String[] args)\n",
    "    {\n",
    "        String name1 = \"Skibidi\";\n",
    "        String name2 = new String(\"Sigma\");\n",
    "        String name3 = new String(name1);\n",
    "\n",
    "        int number1 = 1;\n",
    "        int number2 = 2;\n",
    "        String combine = name1 + \"\" + number1;\n",
    "        name1 += number2; \n",
    "\n",
    "        System.out.println(name1); \n",
    "        System.out.println(combine);\n",
    "    }\n",
    "}\n",
    "\n",
    "concatentations.main(null);"
   ]
  },
  {
   "cell_type": "markdown",
   "metadata": {},
   "source": [
    "### 📝 Backwards and Forwards slashes and their purpose\n",
    "\n",
    "\\ = Used to start escape sequences\n",
    "/ = Comments and division operators\n",
    "\n",
    "\n",
    "#### Backslashes\n",
    "\n",
    "\\\" = Print a double quote character\n",
    "\n",
    "\\\\ = Prints a backslash character\n",
    "\n",
    "\\n = Prints on a new line\n",
    "\n"
   ]
  },
  {
   "cell_type": "code",
   "execution_count": 1,
   "metadata": {},
   "outputs": [
    {
     "name": "stdout",
     "output_type": "stream",
     "text": [
      "This is a double quote: \"\n",
      "This is a backslash: \\\n",
      "This prints on a new line:\n",
      "Second line starts here\n",
      "Result of 10 / 2 is: 5\n"
     ]
    }
   ],
   "source": [
    "public class SlashDemo {\n",
    "    public static void main(String[] args) {\n",
    "        // Using backslashes for escape sequences:\n",
    "        System.out.println(\"This is a double quote: \\\"\");  // Prints a double quote\n",
    "        System.out.println(\"This is a backslash: \\\\\");     // Prints a backslash\n",
    "        System.out.println(\"This prints on a new line:\\nSecond line starts here\");\n",
    "\n",
    "        // Using forward slashes for division and comments:\n",
    "        int a = 10;\n",
    "        int b = 2;\n",
    "        int result = a / b; // Division operation\n",
    "\n",
    "        System.out.println(\"Result of 10 / 2 is: \" + result); // Prints the result of the division\n",
    "    }\n",
    "}\n",
    "\n",
    "SlashDemo.main(null)"
   ]
  },
  {
   "cell_type": "markdown",
   "metadata": {},
   "source": [
    "### 📝 String methods\n",
    "\n",
    "| Method                                  | Description                                                                                             |\n",
    "|-----------------------------------------|---------------------------------------------------------------------------------------------------------|\n",
    "| `String(String str)`                    | Constructs a new `String` object that represents the same sequence of characters as `str`                |\n",
    "| `int length()`                          | Returns the number of characters in a `String` object                                                    |\n",
    "| `String substring(int from, int to)`    | Returns the substring beginning at index `from` and ending at index `to - 1`                             |\n",
    "| `String substring(int from)`            | Returns `substring(from, length())`                                                                      |\n",
    "| `int indexOf(String str)`               | Returns the index of the first occurrence of `str`; returns `-1` if not found                            |\n",
    "| `boolean equals(String other)`          | Returns `true` if this is equal to `other`; returns `false` otherwise                                    |\n",
    "| `int compareTo(String other)`           | Returns a value `< 0` if this is less than `other`; returns zero if this is equal to `other`; returns a value `> 0` if this is greater than `other` |\n",
    "\n"
   ]
  },
  {
   "cell_type": "code",
   "execution_count": 18,
   "metadata": {},
   "outputs": [
    {
     "name": "stdout",
     "output_type": "stream",
     "text": [
      "This should return the length of the word 'Skibidi'\n",
      "7\n"
     ]
    }
   ],
   "source": [
    "public class intDemo {\n",
    "    public static void main(String[] args) {\n",
    "        String wordOfDay = new String(\"Skibidi\");\n",
    "\n",
    "\n",
    "        System.out.println(\"This should return the length of the word 'Skibidi'\");\n",
    "        System.out.println(wordOfDay.length());\n",
    "\n",
    "    }\n",
    "}\n",
    "\n",
    "intDemo.main(null)"
   ]
  },
  {
   "cell_type": "code",
   "execution_count": 7,
   "metadata": {},
   "outputs": [
    {
     "name": "stdout",
     "output_type": "stream",
     "text": [
      "\n",
      "This should return -1, since there is no n in the string\n",
      "-1\n",
      "\n",
      "This should display the index of d (5)\n",
      "5\n"
     ]
    }
   ],
   "source": [
    "public class indexOfDemo {\n",
    "    public static void main(String[] args) {\n",
    "        String wordOfDay = new String(\"Skibidi\");\n",
    "\n",
    "        System.out.println(\"\\nThis should return -1, since there is no n in the string\");\n",
    "        System.out.println(wordOfDay.lastIndexOf(\"n\"));\n",
    "\n",
    "        System.out.println(\"\\nThis should display the index of d (5)\");\n",
    "        System.out.println(wordOfDay.lastIndexOf(\"d\"));\n",
    "    }\n",
    "}\n",
    "\n",
    "indexOfDemo.main(null)"
   ]
  },
  {
   "cell_type": "code",
   "execution_count": 19,
   "metadata": {},
   "outputs": [
    {
     "name": "stdout",
     "output_type": "stream",
     "text": [
      "\n",
      "This should display the letters between the 2nd and 6th\n",
      "ibid\n"
     ]
    }
   ],
   "source": [
    "public class substringOfDemo {\n",
    "    public static void main(String[] args) {\n",
    "        String word = new String(\"skibidi\");\n",
    "\n",
    "        System.out.println(\"\\nThis should display the letters between the 2nd and 6th\");\n",
    "        System.out.println(word.substring(2,6));\n",
    "    }\n",
    "}\n",
    "\n",
    "substringOfDemo.main(null)"
   ]
  },
  {
   "cell_type": "code",
   "execution_count": 26,
   "metadata": {},
   "outputs": [
    {
     "name": "stdout",
     "output_type": "stream",
     "text": [
      "\n",
      "This displays if word1 = word2, if false it returns -1, if true it returns 0\n",
      "-1\n",
      "\n",
      "This displays if word1 = word2, if false it returns -1, if true it returns 0\n",
      "0\n"
     ]
    }
   ],
   "source": [
    "public class compareToDemo {\n",
    "    public static void main(String[] args) {\n",
    "        String word = new String(\"skibidi\");\n",
    "        String word2 = new String(\"skibidi1\");\n",
    "        String word3 = new String(\"skibidi\");\n",
    "\n",
    "        System.out.println(\"\\nThis displays if word1 = word2, if false it returns -1, if true it returns 0\");\n",
    "        System.out.println(word.compareTo(word2));\n",
    "\n",
    "        System.out.println(\"\\nThis displays if word1 = word3, if false it returns -1, if true it returns 0\");\n",
    "        System.out.println(word.compareTo(word3));\n",
    "    }\n",
    "}\n",
    "\n",
    "compareToDemo.main(null)"
   ]
  },
  {
   "cell_type": "code",
   "execution_count": 30,
   "metadata": {},
   "outputs": [
    {
     "name": "stdout",
     "output_type": "stream",
     "text": [
      "\n",
      "This displays if word1 = word2, if false it returns false, if true it returns true\n",
      "false\n",
      "\n",
      "This displays if word1 = word3, if false it returns false, if true it returns true\n",
      "true\n"
     ]
    }
   ],
   "source": [
    "public class equalToDemo {\n",
    "    public static void main(String[] args) {\n",
    "        String word = new String(\"skibidi\");\n",
    "        String word2 = new String(\"skibidi1\");\n",
    "        String word3 = new String(\"skibidi\");\n",
    "\n",
    "        System.out.println(\"\\nThis displays if word1 = word2, if false it returns false, if true it returns true\");\n",
    "        System.out.println(word.equals((word2)));\n",
    "\n",
    "        System.out.println(\"\\nThis displays if word1 = word3, if false it returns false, if true it returns true\");\n",
    "        System.out.println(word.equals((word3)));\n",
    "    }\n",
    "}\n",
    "\n",
    "equalToDemo.main(null)"
   ]
  },
  {
   "cell_type": "markdown",
   "metadata": {},
   "source": [
    "## Section 2.8: Wrapper Classes - Integer and Double (Aadit)"
   ]
  },
  {
   "cell_type": "markdown",
   "metadata": {},
   "source": [
    "## Section 2.9: Using the Math class (Aadit)"
   ]
  },
  {
   "cell_type": "markdown",
   "metadata": {},
   "source": []
  },
  {
   "cell_type": "markdown",
   "metadata": {},
   "source": []
  },
  {
   "cell_type": "markdown",
   "metadata": {},
   "source": []
  }
 ],
 "metadata": {
  "kernelspec": {
   "display_name": "Java",
   "language": "java",
   "name": "java"
  },
  "language_info": {
   "codemirror_mode": "java",
   "file_extension": ".jshell",
   "mimetype": "text/x-java-source",
   "name": "java",
   "pygments_lexer": "java",
   "version": "11.0.24+8-post-Ubuntu-1ubuntu322.04"
  }
 },
 "nbformat": 4,
 "nbformat_minor": 2
}
