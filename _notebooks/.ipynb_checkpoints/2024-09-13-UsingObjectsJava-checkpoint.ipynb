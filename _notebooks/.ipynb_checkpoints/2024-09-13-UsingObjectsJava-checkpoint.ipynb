{
 "cells": [
  {
   "cell_type": "markdown",
   "metadata": {},
   "source": [
    "---\n",
    "layout: post\n",
    "title: Unit 2 - Using Objects\n",
    "description: Team Teach Unit 2 Using Objects (By Shuban, Eric, Aadit, and Rahul)\n",
    "type: issues \n",
    "comments: true\n",
    "---"
   ]
  },
  {
   "cell_type": "markdown",
   "metadata": {},
   "source": [
    "## Topics (Collegeboard subsections)\n",
    "\n",
    "- 2.1 Object - Instances of Classes\n",
    "- 2.2 Creating and Storing Objects\n",
    "- 2.3 Calling a Void Method\n",
    "- 2.4 Calling a Void Method with Parameters\n",
    "- 2.5 Calling a Non-Void Method\n",
    "- 2.6 String Objects - Concatenation, Literals, and More\n",
    "- 2.7 String Methods\n",
    "- 2.8 Wrapper Classes - Integer and Double\n",
    "- 2.9 Using the Math class\n"
   ]
  },
  {
   "cell_type": "markdown",
   "metadata": {},
   "source": [
    "## Section 2.1: What is an Object? (Rahul)"
   ]
  },
  {
   "cell_type": "markdown",
   "metadata": {},
   "source": [
    "## Section 2.2: Creating and Store Objects (Rahul)"
   ]
  },
  {
   "cell_type": "markdown",
   "metadata": {},
   "source": [
    "## Section 2.3: Calling a Void Methods (Rahul)"
   ]
  },
  {
   "cell_type": "markdown",
   "metadata": {},
   "source": [
    "## Section 2.4: Calling a Void Method with Parameters (Shuban)"
   ]
  },
  {
   "cell_type": "markdown",
   "metadata": {},
   "source": [
    "## Section 2.5: Calling a Non-Void (Shuban)"
   ]
  },
  {
   "cell_type": "markdown",
   "metadata": {
    "vscode": {
     "languageId": "plaintext"
    }
   },
   "source": [
    "## Section 2.6: String Objects - Concatenation, Literals, and More (Eric)\n",
    "\n",
    "#### Creating Strings:"
   ]
  },
  {
   "cell_type": "code",
   "execution_count": 2,
   "metadata": {
    "vscode": {
     "languageId": "java"
    }
   },
   "outputs": [],
   "source": [
    "public class stringobjects2_6\n",
    "{\n",
    "    public static void main(String[] args)\n",
    "    {\n",
    "        String name1 = \"Skibidi\";\n",
    "        String name2 = new String(\"Sigma\");\n",
    "        String name3 = new String(name1);\n",
    "    }\n",
    "}"
   ]
  },
  {
   "cell_type": "markdown",
   "metadata": {},
   "source": [
    "---\n",
    "\n",
    "### 📝 Three Ways to Create a String: Let's Break it Down!\n",
    "\n",
    "---\n",
    "\n",
    "#### **First Option:**\n",
    "\n",
    "<iframe\n",
    "  src=\"https://carbon.now.sh/embed?bg=rgba%28171%2C+184%2C+195%2C+1%29&t=seti&wt=none&l=text%2Fx-java&width=680&ds=true&dsyoff=20px&dsblur=68px&wc=true&wa=true&pv=0px&ph=0px&ln=false&fl=1&fm=Hack&fs=14px&lh=133%25&si=false&es=2x&wm=false&code=String%2520name1%2520%253D%2520%2522Skibidi%2522%253B\"\n",
    "  style=\"width: 235px; height: 84px; border:0; transform: scale(1); overflow:hidden;\"\n",
    "  sandbox=\"allow-scripts allow-same-origin\">\n",
    "</iframe>\n",
    "\n",
    "\n",
    "<span style=\"color:purple;\">Class:</span> Defines the type of variable (String, Integer, Array, etc.)\n",
    "\n",
    "<span style=\"color:turqoise;\">Variable Name:</span> Represents the name assigned to the variable.\n",
    "\n",
    "<span style=\"color:yellow;\">String:</span> The actual string value assigned to the variable.\n",
    "\n",
    "---"
   ]
  },
  {
   "cell_type": "markdown",
   "metadata": {},
   "source": [
    "#### **Second Option:**\n",
    "\n",
    "<iframe\n",
    "  src=\"https://carbon.now.sh/embed?bg=rgba%28171%2C+184%2C+195%2C+1%29&t=seti&wt=none&l=text%2Fx-java&width=680&ds=true&dsyoff=20px&dsblur=68px&wc=true&wa=true&pv=0px&ph=0px&ln=false&fl=1&fm=Hack&fs=14px&lh=133%25&si=false&es=2x&wm=false&code=String%2520name2%2520%253D%2520new%2520String%28%2522Sigma%2522%29%253B\"\n",
    "  style=\"width: 319px; height: 79px; border:0; transform: scale(1); overflow:hidden;\"\n",
    "  sandbox=\"allow-scripts allow-same-origin\">\n",
    "</iframe>\n",
    "\n",
    "Class: What type of variable will it be? (String, Integers, Arrays, etc.)\n",
    "\n",
    "Variable name: The name of the variable\n",
    "\n",
    "Java Keyword: The new keyword in Java is used to explicitly create a new object.\n",
    "\n",
    "Class: The string that will be assigned to the variable\n",
    "\n",
    "String: The string to be defined into the variable\n"
   ]
  },
  {
   "cell_type": "markdown",
   "metadata": {},
   "source": [
    "---\n",
    "\n",
    "#### **Third Option:**\n",
    "\n",
    "<iframe\n",
    "  src=\"https://carbon.now.sh/embed?bg=rgba%28171%2C+184%2C+195%2C+1%29&t=seti&wt=none&l=text%2Fx-java&width=680&ds=true&dsyoff=20px&dsblur=68px&wc=true&wa=true&pv=0px&ph=0px&ln=false&fl=1&fm=Hack&fs=14px&lh=133%25&si=false&es=2x&wm=false&code=String%2520string1%2520%253D%2520%2522YIPEE%2522%250AString%2520name2%2520%253D%2520new%2520String%28string1%29%253B\"\n",
    "  style=\"width: 318px; height: 96px; border:0; transform: scale(1); overflow:hidden;\"\n",
    "  sandbox=\"allow-scripts allow-same-origin\">\n",
    "</iframe>\n",
    "\n",
    "Class: What type of variable will it be? (String, Integers, Arrays, etc.)\n",
    "\n",
    "Variable name: The name of the variable\n",
    "\n",
    "Java Keyword: The new keyword in Java is used to explicitly create a new object.\n",
    "\n",
    "Class: The string that will be assigned to the variable\n"
   ]
  },
  {
   "cell_type": "markdown",
   "metadata": {},
   "source": [
    "String Objects are immutable (can't be changed after assignment)"
   ]
  },
  {
   "cell_type": "markdown",
   "metadata": {},
   "source": [
    "### 📝 What are Concatentations?\n",
    "\n",
    "Concatentations are the joining of strings using operators such as \"+=\" and \"+\". \n",
    "\n",
    "There are two primary ways to combine strings:\n",
    "\n",
    "- '+=' : Adds the two strings, redefines the variable\n",
    "- '+' : Adds the two strings, but doesn't redfine the variable"
   ]
  },
  {
   "cell_type": "code",
   "execution_count": 19,
   "metadata": {
    "vscode": {
     "languageId": "java"
    }
   },
   "outputs": [],
   "source": [
    "public class main\n",
    "{\n",
    "    public static void main(String[] args)\n",
    "    {\n",
    "        String name1 = \"Skibidi\";\n",
    "        String name2 = new String(\"Sigma\");\n",
    "        String name3 = new String(name1);\n",
    "\n",
    "        int number1 = 1;\n",
    "        int number2 = 2;\n",
    "        String combine = name1 + \"\" + number1;\n",
    "        name1 += number2; \n",
    "\n",
    "        System.out.println(name1); \n",
    "        System.out.println(combine);\n",
    "    }\n",
    "}\n",
    "\n"
   ]
  },
  {
   "cell_type": "markdown",
   "metadata": {},
   "source": [
    "## Section 2.7: String Methods (Eric)\n",
    "\n"
   ]
  },
  {
   "cell_type": "markdown",
   "metadata": {},
   "source": [
    "## Section 2.8: Wrapper Classes - Integer and Double (Aadit)"
   ]
  },
  {
   "cell_type": "markdown",
   "metadata": {},
   "source": [
    "## Section 2.9: Using the Math class (Aadit)"
   ]
  },
  {
   "cell_type": "markdown",
   "metadata": {},
   "source": []
  },
  {
   "cell_type": "markdown",
   "metadata": {},
   "source": []
  },
  {
   "cell_type": "markdown",
   "metadata": {},
   "source": []
  }
 ],
 "metadata": {
  "kernelspec": {
   "display_name": "Java",
   "language": "java",
   "name": "java"
  },
  "language_info": {
   "codemirror_mode": "java",
   "file_extension": ".jshell",
   "mimetype": "text/x-java-source",
   "name": "Java",
   "pygments_lexer": "java",
   "version": "11.0.24+8-post-Ubuntu-1ubuntu322.04"
  }
 },
 "nbformat": 4,
 "nbformat_minor": 2
}
